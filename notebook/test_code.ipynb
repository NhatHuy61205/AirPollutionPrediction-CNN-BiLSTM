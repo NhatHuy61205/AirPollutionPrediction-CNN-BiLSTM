{
 "cells": [
  {
   "cell_type": "code",
   "execution_count": 3,
   "id": "4569c2b2",
   "metadata": {},
   "outputs": [
    {
     "name": "stdout",
     "output_type": "stream",
     "text": [
      "[[0.  ]\n",
      " [0.25]\n",
      " [0.5 ]\n",
      " [0.75]\n",
      " [1.  ]]\n"
     ]
    }
   ],
   "source": [
    "from sklearn.preprocessing import MinMaxScaler\n",
    "import numpy as np\n",
    "\n",
    "# Dữ liệu giả định\n",
    "data = np.array([[1], [2], [3], [4], [5]])\n",
    "\n",
    "# Khởi tạo và fit scaler\n",
    "scaler = MinMaxScaler()\n",
    "scaled_data = scaler.fit_transform(data)\n",
    "\n",
    "print(scaled_data)\n"
   ]
  },
  {
   "cell_type": "code",
   "execution_count": 7,
   "id": "32da7f9b",
   "metadata": {},
   "outputs": [],
   "source": [
    "import torch\n",
    "import torch.nn as nn\n",
    "import numpy as np\n",
    "\n",
    "# Giả sử bạn có 5 mẫu, mỗi mẫu 10 thời điểm, mỗi thời điểm 3 biến\n",
    "samples = 5\n",
    "seq_length = 10\n",
    "input_features = 3\n",
    "\n",
    "# Tạo dữ kiện ngẫu nhiên\n",
    "X = np.random.rand(samples, seq_length, input_features).astype(np.float32)\n",
    "# Giả sử mỗi mẫu chỉ có 1 output (ví dụ PM2.5)\n",
    "y = np.random.rand(samples, 1).astype(np.float32)\n",
    "\n",
    "# Chuyển sang Tensor\n",
    "X_tensor = torch.tensor(X)\n",
    "y_tensor = torch.tensor(y)\n"
   ]
  },
  {
   "cell_type": "code",
   "execution_count": 8,
   "id": "2ea0631b",
   "metadata": {},
   "outputs": [],
   "source": [
    "class LSTMModel(nn.Module):\n",
    "    def __init__(self, input_size, hidden_size, num_layers=1):\n",
    "        super().__init__()\n",
    "        self.lstm = nn.LSTM(input_size, hidden_size, num_layers, batch_first=True)\n",
    "        self.fc = nn.Linear(hidden_size, 1)\n",
    "\n",
    "    def forward(self, x):\n",
    "        out, _ = self.lstm(x)  # (batch, seq_length, hidden_dim)\n",
    "        out = out[:, -1, :]    # Lấy thời điểm cuối cùng\n",
    "        return self.fc(out)   # (batch, 1)\n",
    "\n",
    "\n",
    "# Khởi tạo mô hình\n",
    "input_size = input_features  # = 3\n",
    "hidden_size = 64\n",
    "model = LSTMModel(input_size, hidden_size)\n"
   ]
  },
  {
   "cell_type": "code",
   "execution_count": 9,
   "id": "32acaf87",
   "metadata": {},
   "outputs": [
    {
     "name": "stdout",
     "output_type": "stream",
     "text": [
      "Predicted shape : torch.Size([5, 1])\n",
      "Predicted values : tensor([[0.0961],\n",
      "        [0.1111],\n",
      "        [0.0977],\n",
      "        [0.0929],\n",
      "        [0.1000]], grad_fn=<AddmmBackward0>)\n"
     ]
    }
   ],
   "source": [
    "# Forward 1 batch dữ kiện\n",
    "pred = model(X_tensor)\n",
    "\n",
    "print(\"Predicted shape :\", pred.shape)\n",
    "print(\"Predicted values :\", pred)\n"
   ]
  },
  {
   "cell_type": "code",
   "execution_count": 15,
   "id": "b71b0b79",
   "metadata": {},
   "outputs": [
    {
     "name": "stdout",
     "output_type": "stream",
     "text": [
      "Model:\n",
      "LSTMModel(\n",
      "  (lstm): LSTM(3, 64, batch_first=True)\n",
      "  (fc): Linear(in_features=64, out_features=1, bias=True)\n",
      ")\n",
      "Output:\n",
      "tensor([[-0.0795],\n",
      "        [-0.0122],\n",
      "        [-0.0005],\n",
      "        [-0.0574],\n",
      "        [-0.0106]], grad_fn=<AddmmBackward0>)\n",
      "Output shape : torch.Size([5, 1])\n"
     ]
    }
   ],
   "source": [
    "import torch\n",
    "import torch.nn as nn\n",
    "\n",
    "# Giả sử mỗi thời điểm bạn có 3 biến (input_features = 3)\n",
    "# bạn muốn LSTM ghi nhớ những thông tin về thời gian\n",
    "# sau khi xử lý, bạn chỉ dự đoán 1 giá trị (ví dụ: PM2.5)\n",
    "\n",
    "\n",
    "# Đây chính là mô hình LSTM hoàn chỉnh\n",
    "class LSTMModel(nn.Module):\n",
    "    def __init__(self, input_size, hidden_size, num_layers=1):\n",
    "        # Gọi hàm khởi động của cha (super) để khởi động nn.Module\n",
    "        super().__init__()\n",
    "\n",
    "        # Đây là LSTM - dòng này sẽ được gán vào biến của đối tượng\n",
    "        self.lstm = nn.LSTM(input_size, hidden_size, num_layers, batch_first=True)\n",
    "\n",
    "        # Tiếp theo thêm 1 tầng fully connected để biến từ hidden sang output\n",
    "        self.fc = nn.Linear(hidden_size, 1)  # 1 giá trị tại mỗi thời điểm cuối cùng\n",
    "\n",
    "    # Hàm forward (đây chính là dòng xử lý chính khi bạn truyền dữ kiện vào mô hình)\n",
    "    def forward(self, x):\n",
    "        # x kích thước [batch, seq_length, input_features]\n",
    "\n",
    "        # LSTM trả về:\n",
    "        # - out: output tại mỗi thời điểm\n",
    "        # - (h, c): hidden state & cell state (nhưng nếu bạn chưa dùng thì chỉ cần _)\n",
    "\n",
    "        out, _ = self.lstm(x)  # (batch, seq_length, hidden_dim)\n",
    "\n",
    "        # Chỉ quan tâm thời điểm cuối cùng\n",
    "        out = out[:, -1, :]    # (batch, hidden_dim)\n",
    "\n",
    "        # Sau khi có được dòng cuối cùng, đưa qua fully connected để ra output\n",
    "        return self.fc(out)   # (batch, 1)\n",
    "\n",
    "\n",
    "# Giả sử bạn có:\n",
    "input_features = 3\n",
    "hidden_dim = 64\n",
    "\n",
    "# Tạo mô hình\n",
    "model = LSTMModel(input_features, hidden_dim)\n",
    "print(\"Model:\")\n",
    "print(model)\n",
    "\n",
    "\n",
    "# Tạo dữ kiện mẫu\n",
    "# 5 mẫu, mỗi mẫu 10 thời điểm, mỗi thời điểm 3 biến\n",
    "batch = 5\n",
    "seq_length = 10\n",
    "X = torch.randn(batch, seq_length, input_features)\n",
    "\n",
    "# Forward để kiểm chứng\n",
    "output = model(X)\n",
    "print(\"Output:\")\n",
    "print(output)\n",
    "print(\"Output shape :\", output.shape)\n"
   ]
  },
  {
   "cell_type": "code",
   "execution_count": 17,
   "id": "cc34b4b2",
   "metadata": {},
   "outputs": [
    {
     "name": "stdout",
     "output_type": "stream",
     "text": [
      "LSTMModel(\n",
      "  (lstm): LSTM(3, 128, num_layers=2, batch_first=True)\n",
      "  (fc): Linear(in_features=128, out_features=1, bias=True)\n",
      ")\n",
      "Output:\n",
      "tensor([[0.0331],\n",
      "        [0.0330],\n",
      "        [0.0276],\n",
      "        [0.0324],\n",
      "        [0.0297]], grad_fn=<AddmmBackward0>)\n",
      "Output shape : torch.Size([5, 1])\n"
     ]
    }
   ],
   "source": [
    "# Thay số tầng hoặc số nơron ẩn tại đây\n",
    "input_features = 3\n",
    "hidden_dim = 128\n",
    "num_layers = 2\n",
    "\n",
    "model = LSTMModel(input_features, hidden_dim, num_layers)\n",
    "print(model)\n",
    "batch = 5\n",
    "seq_length = 10\n",
    "X = torch.randn(batch, seq_length, input_features)\n",
    "\n",
    "# Forward để kiểm chứng\n",
    "output = model(X)\n",
    "print(\"Output:\")\n",
    "print(output)\n",
    "print(\"Output shape :\", output.shape)\n"
   ]
  },
  {
   "cell_type": "code",
   "execution_count": 18,
   "id": "101106c3",
   "metadata": {},
   "outputs": [
    {
     "name": "stdout",
     "output_type": "stream",
     "text": [
      "torch.Size([4])\n",
      "tensor([[1, 2, 3, 4]])\n",
      "torch.Size([1, 4])\n"
     ]
    }
   ],
   "source": [
    "import torch\n",
    "\n",
    "x = torch.tensor([1, 2, 3, 4])\n",
    "print(x.shape)         # torch.Size([4])\n",
    "\n",
    "# Chuyển thành tensor 2 chiều: 1 hàng, 4 cột\n",
    "x_viewed = x.view(1, -1)\n",
    "print(x_viewed)        # tensor([[1, 2, 3, 4]])\n",
    "print(x_viewed.shape)  # torch.Size([1, 4])\n"
   ]
  },
  {
   "cell_type": "markdown",
   "id": "1baef132",
   "metadata": {},
   "source": [
    "User Manual :train_loader, val_loader, test_loader\n"
   ]
  },
  {
   "cell_type": "markdown",
   "id": "1f8a8341",
   "metadata": {},
   "source": [
    " train_loader (tập huấn luyện)<br>\n",
    "📌 Dùng để huấn luyện mô hình: cập nhật trọng số bằng thuật toán tối ưu hóa (ví dụ SGD, Adam)\n",
    "<br>\n",
    "✅ Input: model, optimizer, loss_fn\n",
    "<br>\n",
    "✅ Output: mô hình học được từ dữ liệu\n",
    "<br>\n",
    "2. val_loader (tập kiểm tra/giám sát)<br>\n",
    "📌 Dùng để đánh giá mô hình trong quá trình huấn luyện, nhưng không cập nhật trọng số.\n",
    "<br>\n",
    "✅ Giúp bạn kiểm tra: mô hình có học \"thật\" hay đang overfitting không?\n",
    "<br>\n",
    "✅ Được dùng sau mỗi epoch hoặc vài epoch\n",
    "<br>\n",
    "3. test_loader (tập kiểm tra cuối cùng)<br>\n",
    "📌 Dùng để đánh giá mô hình cuối cùng sau khi huấn luyện xong.\n",
    "<br>\n",
    "✅ Kết quả ở test_loader cho biết mô hình tổng quát hóa tốt không\n",
    "<br>\n",
    "✅ Không được dùng để chọn mô hình (để tránh \"leak\")\n",
    "\n"
   ]
  },
  {
   "cell_type": "code",
   "execution_count": null,
   "id": "a90d0b47",
   "metadata": {},
   "outputs": [],
   "source": []
  }
 ],
 "metadata": {
  "kernelspec": {
   "display_name": "base",
   "language": "python",
   "name": "python3"
  },
  "language_info": {
   "codemirror_mode": {
    "name": "ipython",
    "version": 3
   },
   "file_extension": ".py",
   "mimetype": "text/x-python",
   "name": "python",
   "nbconvert_exporter": "python",
   "pygments_lexer": "ipython3",
   "version": "3.12.7"
  }
 },
 "nbformat": 4,
 "nbformat_minor": 5
}
