{
 "cells": [
  {
   "cell_type": "code",
   "execution_count": 1,
   "id": "2de6c199",
   "metadata": {},
   "outputs": [
    {
     "name": "stdout",
     "output_type": "stream",
     "text": [
      "Hello World\n"
     ]
    }
   ],
   "source": [
    "print(\"Hello World\")"
   ]
  },
  {
   "cell_type": "code",
   "execution_count": null,
   "id": "1dfbb800",
   "metadata": {},
   "outputs": [],
   "source": [
    "pip install -r requirements.txt\n"
   ]
  },
  {
   "cell_type": "markdown",
   "id": "0ea69785",
   "metadata": {},
   "source": [
    "# Visualize Dataset"
   ]
  },
  {
   "cell_type": "code",
   "execution_count": 6,
   "id": "0c229cfb",
   "metadata": {},
   "outputs": [
    {
     "data": {
      "text/html": [
       "<div>\n",
       "<style scoped>\n",
       "    .dataframe tbody tr th:only-of-type {\n",
       "        vertical-align: middle;\n",
       "    }\n",
       "\n",
       "    .dataframe tbody tr th {\n",
       "        vertical-align: top;\n",
       "    }\n",
       "\n",
       "    .dataframe thead th {\n",
       "        text-align: right;\n",
       "    }\n",
       "</style>\n",
       "<table border=\"1\" class=\"dataframe\">\n",
       "  <thead>\n",
       "    <tr style=\"text-align: right;\">\n",
       "      <th></th>\n",
       "      <th>date</th>\n",
       "      <th>Station_No</th>\n",
       "      <th>TSP</th>\n",
       "      <th>PM2.5</th>\n",
       "      <th>O3</th>\n",
       "      <th>CO</th>\n",
       "      <th>NO2</th>\n",
       "      <th>SO2</th>\n",
       "      <th>Temperature</th>\n",
       "      <th>Humidity</th>\n",
       "    </tr>\n",
       "  </thead>\n",
       "  <tbody>\n",
       "    <tr>\n",
       "      <th>0</th>\n",
       "      <td>23-02-2021 21:00</td>\n",
       "      <td>1</td>\n",
       "      <td>32.935714</td>\n",
       "      <td>15.604762</td>\n",
       "      <td>55.431381</td>\n",
       "      <td>1330.451429</td>\n",
       "      <td>112.740762</td>\n",
       "      <td>393.000000</td>\n",
       "      <td>28.361905</td>\n",
       "      <td>63.188095</td>\n",
       "    </tr>\n",
       "    <tr>\n",
       "      <th>1</th>\n",
       "      <td>23-02-2021 22:00</td>\n",
       "      <td>1</td>\n",
       "      <td>30.932353</td>\n",
       "      <td>14.594118</td>\n",
       "      <td>58.197176</td>\n",
       "      <td>1200.603529</td>\n",
       "      <td>112.366471</td>\n",
       "      <td>377.588235</td>\n",
       "      <td>28.320588</td>\n",
       "      <td>63.773529</td>\n",
       "    </tr>\n",
       "    <tr>\n",
       "      <th>2</th>\n",
       "      <td>23-02-2021 23:00</td>\n",
       "      <td>1</td>\n",
       "      <td>27.645000</td>\n",
       "      <td>13.436667</td>\n",
       "      <td>55.029433</td>\n",
       "      <td>1177.897000</td>\n",
       "      <td>112.700433</td>\n",
       "      <td>372.476667</td>\n",
       "      <td>28.336667</td>\n",
       "      <td>64.205000</td>\n",
       "    </tr>\n",
       "    <tr>\n",
       "      <th>3</th>\n",
       "      <td>24-02-2021 00:00</td>\n",
       "      <td>1</td>\n",
       "      <td>24.380000</td>\n",
       "      <td>12.365000</td>\n",
       "      <td>54.767700</td>\n",
       "      <td>1267.476000</td>\n",
       "      <td>112.480867</td>\n",
       "      <td>389.070000</td>\n",
       "      <td>28.305000</td>\n",
       "      <td>64.735000</td>\n",
       "    </tr>\n",
       "    <tr>\n",
       "      <th>4</th>\n",
       "      <td>24-02-2021 01:00</td>\n",
       "      <td>1</td>\n",
       "      <td>22.521667</td>\n",
       "      <td>11.636667</td>\n",
       "      <td>53.786200</td>\n",
       "      <td>1322.293000</td>\n",
       "      <td>114.331500</td>\n",
       "      <td>393.000000</td>\n",
       "      <td>28.300000</td>\n",
       "      <td>65.188333</td>\n",
       "    </tr>\n",
       "  </tbody>\n",
       "</table>\n",
       "</div>"
      ],
      "text/plain": [
       "               date  Station_No        TSP      PM2.5         O3           CO  \\\n",
       "0  23-02-2021 21:00           1  32.935714  15.604762  55.431381  1330.451429   \n",
       "1  23-02-2021 22:00           1  30.932353  14.594118  58.197176  1200.603529   \n",
       "2  23-02-2021 23:00           1  27.645000  13.436667  55.029433  1177.897000   \n",
       "3  24-02-2021 00:00           1  24.380000  12.365000  54.767700  1267.476000   \n",
       "4  24-02-2021 01:00           1  22.521667  11.636667  53.786200  1322.293000   \n",
       "\n",
       "          NO2         SO2  Temperature   Humidity  \n",
       "0  112.740762  393.000000    28.361905  63.188095  \n",
       "1  112.366471  377.588235    28.320588  63.773529  \n",
       "2  112.700433  372.476667    28.336667  64.205000  \n",
       "3  112.480867  389.070000    28.305000  64.735000  \n",
       "4  114.331500  393.000000    28.300000  65.188333  "
      ]
     },
     "execution_count": 6,
     "metadata": {},
     "output_type": "execute_result"
    }
   ],
   "source": [
    "import pandas as pd \n",
    "\n",
    "df_ = pd.read_csv(\"../data/Air Quality Ho Chi Minh City.csv\")\n",
    "df = df_.copy()\n",
    "df.head()"
   ]
  },
  {
   "cell_type": "code",
   "execution_count": 10,
   "id": "72425b1c",
   "metadata": {},
   "outputs": [
    {
     "name": "stdout",
     "output_type": "stream",
     "text": [
      "<class 'pandas.core.frame.DataFrame'>\n",
      "RangeIndex: 52548 entries, 0 to 52547\n",
      "Data columns (total 10 columns):\n",
      " #   Column       Non-Null Count  Dtype  \n",
      "---  ------       --------------  -----  \n",
      " 0   date         52548 non-null  object \n",
      " 1   Station_No   52548 non-null  int64  \n",
      " 2   TSP          52488 non-null  float64\n",
      " 3   PM2.5        52548 non-null  float64\n",
      " 4   O3           41938 non-null  float64\n",
      " 5   CO           43483 non-null  float64\n",
      " 6   NO2          46882 non-null  float64\n",
      " 7   SO2          41542 non-null  float64\n",
      " 8   Temperature  48111 non-null  float64\n",
      " 9   Humidity     48116 non-null  float64\n",
      "dtypes: float64(8), int64(1), object(1)\n",
      "memory usage: 4.0+ MB\n"
     ]
    }
   ],
   "source": [
    "df.info()"
   ]
  },
  {
   "cell_type": "markdown",
   "id": "11c8cd39",
   "metadata": {},
   "source": [
    "Tách date thành => 3 cột Ngày Tháng NămNăm"
   ]
  },
  {
   "cell_type": "code",
   "execution_count": null,
   "id": "adc8c045",
   "metadata": {},
   "outputs": [
    {
     "name": "stdout",
     "output_type": "stream",
     "text": [
      "date               0\n",
      "Station_No         0\n",
      "TSP               60\n",
      "PM2.5              0\n",
      "O3             10610\n",
      "CO              9065\n",
      "NO2             5666\n",
      "SO2            11006\n",
      "Temperature     4437\n",
      "Humidity        4432\n",
      "dtype: int64\n"
     ]
    }
   ],
   "source": [
    "print(df.isnull().sum(axis=0)) #checknull cot"
   ]
  },
  {
   "cell_type": "code",
   "execution_count": null,
   "id": "33125953",
   "metadata": {},
   "outputs": [],
   "source": []
  }
 ],
 "metadata": {
  "kernelspec": {
   "display_name": "base",
   "language": "python",
   "name": "python3"
  },
  "language_info": {
   "codemirror_mode": {
    "name": "ipython",
    "version": 3
   },
   "file_extension": ".py",
   "mimetype": "text/x-python",
   "name": "python",
   "nbconvert_exporter": "python",
   "pygments_lexer": "ipython3",
   "version": "3.12.7"
  }
 },
 "nbformat": 4,
 "nbformat_minor": 5
}
