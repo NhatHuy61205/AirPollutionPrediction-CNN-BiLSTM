{
 "cells": [
  {
   "cell_type": "code",
   "execution_count": 16,
   "id": "2de6c199",
   "metadata": {},
   "outputs": [
    {
     "name": "stdout",
     "output_type": "stream",
     "text": [
      "Hello World\n"
     ]
    }
   ],
   "source": [
    "print(\"Hello World\")"
   ]
  },
  {
   "cell_type": "code",
   "execution_count": 17,
   "id": "1dfbb800",
   "metadata": {},
   "outputs": [
    {
     "name": "stdout",
     "output_type": "stream",
     "text": [
      "Requirement already satisfied: matplotlib in c:\\users\\huyy\\anaconda3\\lib\\site-packages (from -r requirements.txt (line 1)) (3.9.2)\n",
      "Requirement already satisfied: seaborn in c:\\users\\huyy\\anaconda3\\lib\\site-packages (from -r requirements.txt (line 2)) (0.13.2)\n",
      "Requirement already satisfied: plotly in c:\\users\\huyy\\anaconda3\\lib\\site-packages (from -r requirements.txt (line 3)) (5.24.1)\n",
      "Requirement already satisfied: pandas in c:\\users\\huyy\\anaconda3\\lib\\site-packages (from -r requirements.txt (line 4)) (2.2.2)\n",
      "Requirement already satisfied: numpy in c:\\users\\huyy\\anaconda3\\lib\\site-packages (from -r requirements.txt (line 5)) (1.26.4)\n",
      "Requirement already satisfied: torch in c:\\users\\huyy\\anaconda3\\lib\\site-packages (from -r requirements.txt (line 6)) (2.7.1)\n",
      "Requirement already satisfied: contourpy>=1.0.1 in c:\\users\\huyy\\anaconda3\\lib\\site-packages (from matplotlib->-r requirements.txt (line 1)) (1.2.0)\n",
      "Requirement already satisfied: cycler>=0.10 in c:\\users\\huyy\\anaconda3\\lib\\site-packages (from matplotlib->-r requirements.txt (line 1)) (0.11.0)\n",
      "Requirement already satisfied: fonttools>=4.22.0 in c:\\users\\huyy\\anaconda3\\lib\\site-packages (from matplotlib->-r requirements.txt (line 1)) (4.51.0)\n",
      "Requirement already satisfied: kiwisolver>=1.3.1 in c:\\users\\huyy\\anaconda3\\lib\\site-packages (from matplotlib->-r requirements.txt (line 1)) (1.4.4)\n",
      "Requirement already satisfied: packaging>=20.0 in c:\\users\\huyy\\anaconda3\\lib\\site-packages (from matplotlib->-r requirements.txt (line 1)) (24.1)\n",
      "Requirement already satisfied: pillow>=8 in c:\\users\\huyy\\anaconda3\\lib\\site-packages (from matplotlib->-r requirements.txt (line 1)) (10.4.0)\n",
      "Requirement already satisfied: pyparsing>=2.3.1 in c:\\users\\huyy\\anaconda3\\lib\\site-packages (from matplotlib->-r requirements.txt (line 1)) (3.1.2)\n",
      "Requirement already satisfied: python-dateutil>=2.7 in c:\\users\\huyy\\anaconda3\\lib\\site-packages (from matplotlib->-r requirements.txt (line 1)) (2.9.0.post0)\n",
      "Requirement already satisfied: tenacity>=6.2.0 in c:\\users\\huyy\\anaconda3\\lib\\site-packages (from plotly->-r requirements.txt (line 3)) (8.2.3)\n",
      "Requirement already satisfied: pytz>=2020.1 in c:\\users\\huyy\\anaconda3\\lib\\site-packages (from pandas->-r requirements.txt (line 4)) (2024.1)\n",
      "Requirement already satisfied: tzdata>=2022.7 in c:\\users\\huyy\\anaconda3\\lib\\site-packages (from pandas->-r requirements.txt (line 4)) (2023.3)\n",
      "Requirement already satisfied: filelock in c:\\users\\huyy\\anaconda3\\lib\\site-packages (from torch->-r requirements.txt (line 6)) (3.13.1)\n",
      "Requirement already satisfied: typing-extensions>=4.10.0 in c:\\users\\huyy\\anaconda3\\lib\\site-packages (from torch->-r requirements.txt (line 6)) (4.11.0)\n",
      "Requirement already satisfied: sympy>=1.13.3 in c:\\users\\huyy\\anaconda3\\lib\\site-packages (from torch->-r requirements.txt (line 6)) (1.14.0)\n",
      "Requirement already satisfied: networkx in c:\\users\\huyy\\anaconda3\\lib\\site-packages (from torch->-r requirements.txt (line 6)) (3.3)\n",
      "Requirement already satisfied: jinja2 in c:\\users\\huyy\\anaconda3\\lib\\site-packages (from torch->-r requirements.txt (line 6)) (3.1.4)\n",
      "Requirement already satisfied: fsspec in c:\\users\\huyy\\anaconda3\\lib\\site-packages (from torch->-r requirements.txt (line 6)) (2024.6.1)\n",
      "Requirement already satisfied: setuptools in c:\\users\\huyy\\anaconda3\\lib\\site-packages (from torch->-r requirements.txt (line 6)) (75.1.0)\n",
      "Requirement already satisfied: six>=1.5 in c:\\users\\huyy\\anaconda3\\lib\\site-packages (from python-dateutil>=2.7->matplotlib->-r requirements.txt (line 1)) (1.16.0)\n",
      "Requirement already satisfied: mpmath<1.4,>=1.1.0 in c:\\users\\huyy\\anaconda3\\lib\\site-packages (from sympy>=1.13.3->torch->-r requirements.txt (line 6)) (1.3.0)\n",
      "Requirement already satisfied: MarkupSafe>=2.0 in c:\\users\\huyy\\anaconda3\\lib\\site-packages (from jinja2->torch->-r requirements.txt (line 6)) (2.1.3)\n",
      "Note: you may need to restart the kernel to use updated packages.\n"
     ]
    }
   ],
   "source": [
    "pip install -r requirements.txt\n"
   ]
  },
  {
   "cell_type": "markdown",
   "id": "0ea69785",
   "metadata": {},
   "source": [
    "# Visualize Dataset"
   ]
  },
  {
   "cell_type": "code",
   "execution_count": 18,
   "id": "0c229cfb",
   "metadata": {},
   "outputs": [
    {
     "data": {
      "text/html": [
       "<div>\n",
       "<style scoped>\n",
       "    .dataframe tbody tr th:only-of-type {\n",
       "        vertical-align: middle;\n",
       "    }\n",
       "\n",
       "    .dataframe tbody tr th {\n",
       "        vertical-align: top;\n",
       "    }\n",
       "\n",
       "    .dataframe thead th {\n",
       "        text-align: right;\n",
       "    }\n",
       "</style>\n",
       "<table border=\"1\" class=\"dataframe\">\n",
       "  <thead>\n",
       "    <tr style=\"text-align: right;\">\n",
       "      <th></th>\n",
       "      <th>date</th>\n",
       "      <th>Station_No</th>\n",
       "      <th>TSP</th>\n",
       "      <th>PM2.5</th>\n",
       "      <th>O3</th>\n",
       "      <th>CO</th>\n",
       "      <th>NO2</th>\n",
       "      <th>SO2</th>\n",
       "      <th>Temperature</th>\n",
       "      <th>Humidity</th>\n",
       "    </tr>\n",
       "  </thead>\n",
       "  <tbody>\n",
       "    <tr>\n",
       "      <th>0</th>\n",
       "      <td>23-02-2021 21:00</td>\n",
       "      <td>1</td>\n",
       "      <td>32.935714</td>\n",
       "      <td>15.604762</td>\n",
       "      <td>55.431381</td>\n",
       "      <td>1330.451429</td>\n",
       "      <td>112.740762</td>\n",
       "      <td>393.000000</td>\n",
       "      <td>28.361905</td>\n",
       "      <td>63.188095</td>\n",
       "    </tr>\n",
       "    <tr>\n",
       "      <th>1</th>\n",
       "      <td>23-02-2021 22:00</td>\n",
       "      <td>1</td>\n",
       "      <td>30.932353</td>\n",
       "      <td>14.594118</td>\n",
       "      <td>58.197176</td>\n",
       "      <td>1200.603529</td>\n",
       "      <td>112.366471</td>\n",
       "      <td>377.588235</td>\n",
       "      <td>28.320588</td>\n",
       "      <td>63.773529</td>\n",
       "    </tr>\n",
       "    <tr>\n",
       "      <th>2</th>\n",
       "      <td>23-02-2021 23:00</td>\n",
       "      <td>1</td>\n",
       "      <td>27.645000</td>\n",
       "      <td>13.436667</td>\n",
       "      <td>55.029433</td>\n",
       "      <td>1177.897000</td>\n",
       "      <td>112.700433</td>\n",
       "      <td>372.476667</td>\n",
       "      <td>28.336667</td>\n",
       "      <td>64.205000</td>\n",
       "    </tr>\n",
       "    <tr>\n",
       "      <th>3</th>\n",
       "      <td>24-02-2021 00:00</td>\n",
       "      <td>1</td>\n",
       "      <td>24.380000</td>\n",
       "      <td>12.365000</td>\n",
       "      <td>54.767700</td>\n",
       "      <td>1267.476000</td>\n",
       "      <td>112.480867</td>\n",
       "      <td>389.070000</td>\n",
       "      <td>28.305000</td>\n",
       "      <td>64.735000</td>\n",
       "    </tr>\n",
       "    <tr>\n",
       "      <th>4</th>\n",
       "      <td>24-02-2021 01:00</td>\n",
       "      <td>1</td>\n",
       "      <td>22.521667</td>\n",
       "      <td>11.636667</td>\n",
       "      <td>53.786200</td>\n",
       "      <td>1322.293000</td>\n",
       "      <td>114.331500</td>\n",
       "      <td>393.000000</td>\n",
       "      <td>28.300000</td>\n",
       "      <td>65.188333</td>\n",
       "    </tr>\n",
       "  </tbody>\n",
       "</table>\n",
       "</div>"
      ],
      "text/plain": [
       "               date  Station_No        TSP      PM2.5         O3           CO  \\\n",
       "0  23-02-2021 21:00           1  32.935714  15.604762  55.431381  1330.451429   \n",
       "1  23-02-2021 22:00           1  30.932353  14.594118  58.197176  1200.603529   \n",
       "2  23-02-2021 23:00           1  27.645000  13.436667  55.029433  1177.897000   \n",
       "3  24-02-2021 00:00           1  24.380000  12.365000  54.767700  1267.476000   \n",
       "4  24-02-2021 01:00           1  22.521667  11.636667  53.786200  1322.293000   \n",
       "\n",
       "          NO2         SO2  Temperature   Humidity  \n",
       "0  112.740762  393.000000    28.361905  63.188095  \n",
       "1  112.366471  377.588235    28.320588  63.773529  \n",
       "2  112.700433  372.476667    28.336667  64.205000  \n",
       "3  112.480867  389.070000    28.305000  64.735000  \n",
       "4  114.331500  393.000000    28.300000  65.188333  "
      ]
     },
     "execution_count": 18,
     "metadata": {},
     "output_type": "execute_result"
    }
   ],
   "source": [
    "import pandas as pd \n",
    "\n",
    "df_ = pd.read_csv(\"../data/Air Quality Ho Chi Minh City.csv\")\n",
    "df = df_.copy()\n",
    "df.head()"
   ]
  },
  {
   "cell_type": "code",
   "execution_count": 19,
   "metadata": {},
   "outputs": [
    {
     "data": {
      "text/plain": [
       "array([1, 2, 3, 4, 5, 6], dtype=int64)"
      ]
     },
     "execution_count": 19,
     "metadata": {},
     "output_type": "execute_result"
    }
   ],
   "source": [
    "df['Station_No'].unique()"
   ]
  },
  {
   "cell_type": "markdown",
   "id": "11c8cd39",
   "metadata": {},
   "source": [
    "Tách date thành => 3 cột Ngày Tháng Năm nếu cần thiết trong mô hình"
   ]
  },
  {
   "cell_type": "code",
   "execution_count": 20,
   "metadata": {},
   "outputs": [
    {
     "name": "stdout",
     "output_type": "stream",
     "text": [
      "0   2021-02-23 21:00:00\n",
      "1   2021-02-23 22:00:00\n",
      "2   2021-02-23 23:00:00\n",
      "3   2021-02-24 00:00:00\n",
      "4   2021-02-24 01:00:00\n",
      "Name: date, dtype: datetime64[ns]\n"
     ]
    }
   ],
   "source": [
    "df['date']= pd.to_datetime(df['date'], dayfirst=True)\n",
    "print(df['date'].head())"
   ]
  },
  {
   "cell_type": "code",
   "execution_count": 21,
   "id": "adc8c045",
   "metadata": {},
   "outputs": [
    {
     "data": {
      "text/plain": [
       "date               0\n",
       "Station_No         0\n",
       "TSP               60\n",
       "PM2.5              0\n",
       "O3             10610\n",
       "CO              9065\n",
       "NO2             5666\n",
       "SO2            11006\n",
       "Temperature     4437\n",
       "Humidity        4432\n",
       "dtype: int64"
      ]
     },
     "execution_count": 21,
     "metadata": {},
     "output_type": "execute_result"
    }
   ],
   "source": [
    "df.isna().sum()"
   ]
  },
  {
   "cell_type": "code",
   "execution_count": 22,
   "id": "33125953",
   "metadata": {},
   "outputs": [
    {
     "name": "stdout",
     "output_type": "stream",
     "text": [
      "<class 'pandas.core.frame.DataFrame'>\n",
      "RangeIndex: 52548 entries, 0 to 52547\n",
      "Data columns (total 10 columns):\n",
      " #   Column       Non-Null Count  Dtype         \n",
      "---  ------       --------------  -----         \n",
      " 0   date         52548 non-null  datetime64[ns]\n",
      " 1   Station_No   52548 non-null  int64         \n",
      " 2   TSP          52488 non-null  float64       \n",
      " 3   PM2.5        52548 non-null  float64       \n",
      " 4   O3           41938 non-null  float64       \n",
      " 5   CO           43483 non-null  float64       \n",
      " 6   NO2          46882 non-null  float64       \n",
      " 7   SO2          41542 non-null  float64       \n",
      " 8   Temperature  48111 non-null  float64       \n",
      " 9   Humidity     48116 non-null  float64       \n",
      "dtypes: datetime64[ns](1), float64(8), int64(1)\n",
      "memory usage: 4.0 MB\n"
     ]
    }
   ],
   "source": [
    "df.info()"
   ]
  },
  {
   "cell_type": "code",
   "execution_count": 23,
   "metadata": {},
   "outputs": [
    {
     "data": {
      "text/plain": [
       "(52548, 10)"
      ]
     },
     "execution_count": 23,
     "metadata": {},
     "output_type": "execute_result"
    }
   ],
   "source": [
    "df.shape"
   ]
  },
  {
   "cell_type": "code",
   "execution_count": 24,
   "metadata": {},
   "outputs": [
    {
     "data": {
      "text/plain": [
       "0"
      ]
     },
     "execution_count": 24,
     "metadata": {},
     "output_type": "execute_result"
    }
   ],
   "source": [
    "df.duplicated().sum()"
   ]
  },
  {
   "cell_type": "code",
   "execution_count": 25,
   "id": "63ad7878",
   "metadata": {},
   "outputs": [],
   "source": [
    "df.fillna(0,inplace=True) #fill gia tri null = 0"
   ]
  },
  {
   "cell_type": "code",
   "execution_count": 26,
   "id": "2b122e85",
   "metadata": {},
   "outputs": [
    {
     "data": {
      "text/plain": [
       "date           0\n",
       "Station_No     0\n",
       "TSP            0\n",
       "PM2.5          0\n",
       "O3             0\n",
       "CO             0\n",
       "NO2            0\n",
       "SO2            0\n",
       "Temperature    0\n",
       "Humidity       0\n",
       "dtype: int64"
      ]
     },
     "execution_count": 26,
     "metadata": {},
     "output_type": "execute_result"
    }
   ],
   "source": [
    "df.isnull().sum()"
   ]
  },
  {
   "cell_type": "markdown",
   "id": "f4b68007",
   "metadata": {},
   "source": [
    "# Chia Tập Dữ Liệu #"
   ]
  },
  {
   "cell_type": "code",
   "execution_count": 27,
   "id": "7b9fbee1",
   "metadata": {},
   "outputs": [
    {
     "data": {
      "text/plain": [
       "0       2021-02-23 21:00:00\n",
       "1       2021-02-23 22:00:00\n",
       "2       2021-02-23 23:00:00\n",
       "3       2021-02-24 00:00:00\n",
       "4       2021-02-24 01:00:00\n",
       "                ...        \n",
       "52543   2022-06-21 13:00:00\n",
       "52544   2022-06-21 14:00:00\n",
       "52545   2022-06-21 15:00:00\n",
       "52546   2022-06-21 16:00:00\n",
       "52547   2022-06-21 17:00:00\n",
       "Name: date, Length: 52548, dtype: datetime64[ns]"
      ]
     },
     "execution_count": 27,
     "metadata": {},
     "output_type": "execute_result"
    }
   ],
   "source": [
    "df['date']"
   ]
  },
  {
   "cell_type": "markdown",
   "id": "dc10e20e",
   "metadata": {},
   "source": [
    "từ 23/02/2021 đến 21/06/2022 <br>\n",
    "Chia date thành year, month, day, hour"
   ]
  },
  {
   "cell_type": "code",
   "execution_count": 28,
   "id": "e0633f80",
   "metadata": {},
   "outputs": [],
   "source": [
    "# df['year'] = df['date'].dt.year\n",
    "# df['month'] = df['date'].dt.month\n",
    "# df['day'] = df['date'].dt.day\n",
    "# df['hour'] = df['date'].dt.hour\n",
    "# df = df.drop(columns=['date'])\n"
   ]
  },
  {
   "cell_type": "markdown",
   "id": "cceac776",
   "metadata": {},
   "source": [
    "Chia 6 khu vực thành 6 tệp json"
   ]
  },
  {
   "cell_type": "code",
   "execution_count": 29,
   "id": "a5668f18",
   "metadata": {},
   "outputs": [],
   "source": [
    "\n",
    "for station_id in df['Station_No'].unique():\n",
    "    df_station = df[df['Station_No'] == station_id]\n",
    "    \n",
    "    df_station.to_csv(f'../data/station_{station_id}.csv', index=False, encoding='utf-8-sig')"
   ]
  },
  {
   "cell_type": "markdown",
   "id": "cba38179",
   "metadata": {},
   "source": [
    "# Model #"
   ]
  },
  {
   "cell_type": "code",
   "execution_count": 56,
   "id": "fb2aec34",
   "metadata": {},
   "outputs": [],
   "source": [
    "df1_ = pd.read_csv('../data/station_1.csv')\n",
    "df1 = df1_.copy()\n",
    "df1 = df1.sort_values('date')"
   ]
  },
  {
   "cell_type": "code",
   "execution_count": 33,
   "id": "bc35a56a",
   "metadata": {},
   "outputs": [
    {
     "data": {
      "text/html": [
       "<div>\n",
       "<style scoped>\n",
       "    .dataframe tbody tr th:only-of-type {\n",
       "        vertical-align: middle;\n",
       "    }\n",
       "\n",
       "    .dataframe tbody tr th {\n",
       "        vertical-align: top;\n",
       "    }\n",
       "\n",
       "    .dataframe thead th {\n",
       "        text-align: right;\n",
       "    }\n",
       "</style>\n",
       "<table border=\"1\" class=\"dataframe\">\n",
       "  <thead>\n",
       "    <tr style=\"text-align: right;\">\n",
       "      <th></th>\n",
       "      <th>date</th>\n",
       "      <th>Station_No</th>\n",
       "      <th>TSP</th>\n",
       "      <th>PM2.5</th>\n",
       "      <th>O3</th>\n",
       "      <th>CO</th>\n",
       "      <th>NO2</th>\n",
       "      <th>SO2</th>\n",
       "      <th>Temperature</th>\n",
       "      <th>Humidity</th>\n",
       "    </tr>\n",
       "  </thead>\n",
       "  <tbody>\n",
       "    <tr>\n",
       "      <th>0</th>\n",
       "      <td>2021-02-23 21:00:00</td>\n",
       "      <td>1</td>\n",
       "      <td>32.935714</td>\n",
       "      <td>15.604762</td>\n",
       "      <td>55.431381</td>\n",
       "      <td>1330.451429</td>\n",
       "      <td>112.740762</td>\n",
       "      <td>393.000000</td>\n",
       "      <td>28.361905</td>\n",
       "      <td>63.188095</td>\n",
       "    </tr>\n",
       "    <tr>\n",
       "      <th>1</th>\n",
       "      <td>2021-02-23 22:00:00</td>\n",
       "      <td>1</td>\n",
       "      <td>30.932353</td>\n",
       "      <td>14.594118</td>\n",
       "      <td>58.197176</td>\n",
       "      <td>1200.603529</td>\n",
       "      <td>112.366471</td>\n",
       "      <td>377.588235</td>\n",
       "      <td>28.320588</td>\n",
       "      <td>63.773529</td>\n",
       "    </tr>\n",
       "    <tr>\n",
       "      <th>2</th>\n",
       "      <td>2021-02-23 23:00:00</td>\n",
       "      <td>1</td>\n",
       "      <td>27.645000</td>\n",
       "      <td>13.436667</td>\n",
       "      <td>55.029433</td>\n",
       "      <td>1177.897000</td>\n",
       "      <td>112.700433</td>\n",
       "      <td>372.476667</td>\n",
       "      <td>28.336667</td>\n",
       "      <td>64.205000</td>\n",
       "    </tr>\n",
       "    <tr>\n",
       "      <th>3</th>\n",
       "      <td>2021-02-24 00:00:00</td>\n",
       "      <td>1</td>\n",
       "      <td>24.380000</td>\n",
       "      <td>12.365000</td>\n",
       "      <td>54.767700</td>\n",
       "      <td>1267.476000</td>\n",
       "      <td>112.480867</td>\n",
       "      <td>389.070000</td>\n",
       "      <td>28.305000</td>\n",
       "      <td>64.735000</td>\n",
       "    </tr>\n",
       "    <tr>\n",
       "      <th>4</th>\n",
       "      <td>2021-02-24 01:00:00</td>\n",
       "      <td>1</td>\n",
       "      <td>22.521667</td>\n",
       "      <td>11.636667</td>\n",
       "      <td>53.786200</td>\n",
       "      <td>1322.293000</td>\n",
       "      <td>114.331500</td>\n",
       "      <td>393.000000</td>\n",
       "      <td>28.300000</td>\n",
       "      <td>65.188333</td>\n",
       "    </tr>\n",
       "  </tbody>\n",
       "</table>\n",
       "</div>"
      ],
      "text/plain": [
       "                  date  Station_No        TSP      PM2.5         O3  \\\n",
       "0  2021-02-23 21:00:00           1  32.935714  15.604762  55.431381   \n",
       "1  2021-02-23 22:00:00           1  30.932353  14.594118  58.197176   \n",
       "2  2021-02-23 23:00:00           1  27.645000  13.436667  55.029433   \n",
       "3  2021-02-24 00:00:00           1  24.380000  12.365000  54.767700   \n",
       "4  2021-02-24 01:00:00           1  22.521667  11.636667  53.786200   \n",
       "\n",
       "            CO         NO2         SO2  Temperature   Humidity  \n",
       "0  1330.451429  112.740762  393.000000    28.361905  63.188095  \n",
       "1  1200.603529  112.366471  377.588235    28.320588  63.773529  \n",
       "2  1177.897000  112.700433  372.476667    28.336667  64.205000  \n",
       "3  1267.476000  112.480867  389.070000    28.305000  64.735000  \n",
       "4  1322.293000  114.331500  393.000000    28.300000  65.188333  "
      ]
     },
     "execution_count": 33,
     "metadata": {},
     "output_type": "execute_result"
    }
   ],
   "source": [
    "df1.head()"
   ]
  },
  {
   "cell_type": "markdown",
   "id": "e84cac29",
   "metadata": {},
   "source": [
    "<h1>Chuẩn hóa dữ liệu</h1>"
   ]
  },
  {
   "cell_type": "code",
   "execution_count": 35,
   "id": "6ca2d1e3",
   "metadata": {},
   "outputs": [],
   "source": [
    "from sklearn.preprocessing import MinMaxScaler\n",
    "\n",
    "features = ['TSP','O3','CO','NO2', 'SO2', 'Temperature', 'Humidity']\n",
    "target = ['PM2.5']\n",
    "\n",
    "scaler_X = MinMaxScaler()\n",
    "scaler_Y = MinMaxScaler()\n",
    "\n",
    "X_scaler = scaler_X.fit_transform(df1[features])\n",
    "Y_scaler = scaler_Y.fit_transform(df1[target])"
   ]
  },
  {
   "cell_type": "markdown",
   "id": "5f9c8dd3",
   "metadata": {},
   "source": [
    "Chuỗi dữ liệu cho LSTM"
   ]
  },
  {
   "cell_type": "code",
   "execution_count": 39,
   "id": "acabd812",
   "metadata": {},
   "outputs": [],
   "source": [
    "import numpy as np\n",
    "def create_sequences(X, y, seq_len):\n",
    "    X_seq, y_seq = [], []\n",
    "    for i in range(seq_len, len(X)):\n",
    "        X_seq.append(X[i-seq_len:i])\n",
    "        y_seq.append(y[i])\n",
    "    return np.array(X_seq), np.array(y_seq)\n",
    "\n",
    "X_seq , y_seq = create_sequences(X_scaler, Y_scaler, 100)"
   ]
  },
  {
   "cell_type": "markdown",
   "id": "f17dcf7d",
   "metadata": {},
   "source": [
    "Chia data"
   ]
  },
  {
   "cell_type": "code",
   "execution_count": 41,
   "id": "dd9cdd32",
   "metadata": {},
   "outputs": [],
   "source": [
    "train_size = int(0.7 * len(X_seq))       # 70% huan luyen\n",
    "val_size = int(0.15 * len(X_seq))        # 15% kiem tra model\n",
    "test_size = len(X_seq) - train_size - val_size  \n",
    "\n",
    "X_train = X_seq[:train_size]\n",
    "y_train = y_seq[:train_size]\n",
    "\n",
    "X_val = X_seq[train_size:train_size + val_size]\n",
    "y_val = y_seq[train_size:train_size + val_size]\n",
    "\n",
    "X_test = X_seq[train_size + val_size:]\n",
    "y_test = y_seq[train_size + val_size:]"
   ]
  },
  {
   "cell_type": "markdown",
   "id": "ee450fb1",
   "metadata": {},
   "source": [
    "Chuyển sang tensor"
   ]
  },
  {
   "cell_type": "code",
   "execution_count": 42,
   "id": "56f2080a",
   "metadata": {},
   "outputs": [],
   "source": [
    "import torch\n",
    "from torch.utils.data import TensorDataset, DataLoader\n",
    "\n",
    "def create_loader(X, y, batch_size =32, shuffle= False):\n",
    "    X_tensor = torch.tensor(X,  dtype=torch.float32)\n",
    "    y_tensor = torch.tensor(y, dtype=torch.float32).view(-1,1)\n",
    "    dataset = TensorDataset(X_tensor, y_tensor)\n",
    "    return DataLoader(dataset, batch_size=batch_size, shuffle=shuffle)\n",
    "\n",
    "train_loader = create_loader(X_train, y_train, batch_size=32, shuffle=True)\n",
    "val_loader   = create_loader(X_val, y_val, batch_size=32, shuffle=False)\n",
    "test_loader  = create_loader(X_test, y_test, batch_size=32, shuffle=False)"
   ]
  },
  {
   "cell_type": "markdown",
   "id": "0d985743",
   "metadata": {},
   "source": [
    "Mô hình LSTM"
   ]
  },
  {
   "cell_type": "markdown",
   "id": "a199a13b",
   "metadata": {},
   "source": [
    "x: batch data đầu vào <br>\n",
    "\n",
    "batch = số lượng mẫu trong một batch \n",
    "<br>\n",
    "seq_length = số bước thời gian (24 giờ gần nhất)\n",
    "<br>\n",
    "input_dim = số đặc trưng mỗi thời điểm (PM2.5)\n",
    "\n"
   ]
  },
  {
   "cell_type": "code",
   "execution_count": null,
   "id": "9d140a99",
   "metadata": {},
   "outputs": [],
   "source": [
    "import torch.nn as nn \n",
    "\n",
    "class LSTM_Model(nn.Module):\n",
    "    def __init__(self, input_size, hidden_size, num_layers = 1):\n",
    "        super().__init__()\n",
    "        self.lstm = nn.LSTM(input_size, hidden_size, num_layers, batch_first=True)\n",
    "        self.fc = nn.Linear(hidden_size,1) # dau ra 1 gtri PM2.5\n",
    "        \n",
    "    def forward(self, x):\n",
    "        # x: (batch, seq_length,, input_dim)\n",
    "        lstm_out, (h_n, c_n) = self.lstm(x)\n",
    "        # output tại thời điểm cuối\n",
    "        last_out = lstm_out[:, -1, :]\n",
    "        output = self.fc(last_out)\n",
    "        return output\n"
   ]
  },
  {
   "cell_type": "markdown",
   "id": "4f355f09",
   "metadata": {},
   "source": [
    "Huấn Luyện Mô Hình"
   ]
  },
  {
   "cell_type": "code",
   "execution_count": 47,
   "id": "c57bf37d",
   "metadata": {},
   "outputs": [
    {
     "name": "stdout",
     "output_type": "stream",
     "text": [
      "Epoch  1 | Train Loss: 0.3572 | Val Loss: 0.0364\n",
      "Epoch  2 | Train Loss: 0.1690 | Val Loss: 0.0259\n",
      "Epoch  3 | Train Loss: 0.1492 | Val Loss: 0.0189\n",
      "Epoch  4 | Train Loss: 0.1377 | Val Loss: 0.0162\n",
      "Epoch  5 | Train Loss: 0.1312 | Val Loss: 0.0205\n",
      "Epoch  6 | Train Loss: 0.1291 | Val Loss: 0.0146\n",
      "Epoch  7 | Train Loss: 0.1210 | Val Loss: 0.0137\n",
      "Epoch  8 | Train Loss: 0.1195 | Val Loss: 0.0132\n",
      "Epoch  9 | Train Loss: 0.1162 | Val Loss: 0.0127\n",
      "Epoch 10 | Train Loss: 0.1113 | Val Loss: 0.0110\n"
     ]
    }
   ],
   "source": [
    "input_dim = len(features)\n",
    "hidden_dim = 64\n",
    "model = LSTM_Model(input_dim, hidden_dim)\n",
    "loss_fn = nn.MSELoss()\n",
    "optimizer = torch.optim.Adam(model.parameters(), lr = 0.001)\n",
    "\n",
    "epochs = 10\n",
    "\n",
    "for epoch in range(epochs):\n",
    "    model.train()\n",
    "    train_loss = 0\n",
    "    for X_batch, y_batch in train_loader:\n",
    "        optimizer.zero_grad()\n",
    "        y_pred = model(X_batch)\n",
    "        loss = loss_fn(y_pred,y_batch)\n",
    "        loss.backward() #lan truyền ngược (tự động tình đạo hàm theo tham số mô hình)\n",
    "        optimizer.step() #cập nhật trọng số\n",
    "        train_loss += loss.item()\n",
    "        \n",
    "    model.eval()\n",
    "    val_loss = 0\n",
    "    with torch.no_grad():\n",
    "        for X_val_batch, y_val_batch in val_loader:\n",
    "            y_val_pred = model(X_val_batch)\n",
    "            val_loss += loss_fn(y_val_pred, y_val_batch).item()\n",
    "    \n",
    "    print(f\"Epoch {epoch+1:2} | Train Loss: {train_loss:.4f} | Val Loss: {val_loss:.4f}\")\n",
    "        "
   ]
  },
  {
   "cell_type": "markdown",
   "id": "1abbe9f6",
   "metadata": {},
   "source": [
    "Cải thiện: <br>\n",
    "Tăng hidden_size <br>\n",
    "\n",
    "Tăng num_layers\n",
    "<br>\n",
    "Thêm Dropout\n",
    "<br>\n",
    "Huấn luyện lâu hơn (20–30 epoch) + dùng early stopping\n",
    "\n"
   ]
  },
  {
   "cell_type": "markdown",
   "id": "d3957900",
   "metadata": {},
   "source": [
    "Đánh giá tập test"
   ]
  },
  {
   "cell_type": "code",
   "execution_count": 48,
   "id": "680049d2",
   "metadata": {},
   "outputs": [
    {
     "name": "stdout",
     "output_type": "stream",
     "text": [
      "\n",
      " Test Loss: 0.0171\n"
     ]
    }
   ],
   "source": [
    "model.eval()\n",
    "test_loss = 0\n",
    "preds = []\n",
    "targets = []\n",
    "\n",
    "with torch.no_grad():\n",
    "    for X_batch, y_batch in test_loader:\n",
    "        y_pred = model(X_batch)\n",
    "        test_loss += loss_fn(y_pred, y_batch).item()\n",
    "        preds.append(y_pred.numpy())\n",
    "        targets.append(y_batch.numpy())\n",
    "\n",
    "print(f\"\\n Test Loss: {test_loss:.4f}\")"
   ]
  },
  {
   "cell_type": "markdown",
   "id": "4e3b3252",
   "metadata": {},
   "source": [
    "$$\n",
    "\\text{Loss} = \\frac{1}{N} \\sum_{i=1}^{N} \\left( \\hat{y}_i - y_i \\right)^2\n",
    "$$\n"
   ]
  },
  {
   "cell_type": "code",
   "execution_count": 50,
   "id": "17773836",
   "metadata": {},
   "outputs": [],
   "source": [
    "torch.save(model.state_dict(), \"../model/lstm_model.pth\") # lưu mô hình"
   ]
  },
  {
   "cell_type": "code",
   "execution_count": 51,
   "id": "a767dc23",
   "metadata": {},
   "outputs": [
    {
     "name": "stdout",
     "output_type": "stream",
     "text": [
      " Test Loss (MSE): 0.1377\n"
     ]
    }
   ],
   "source": [
    "model = LSTM_Model(input_dim, hidden_dim)\n",
    "model.load_state_dict(torch.load(\"../model/lstm_model.pth\"))\n",
    "\n",
    "X_true = X_seq\n",
    "y_true = y_seq\n",
    "true_data = create_loader(X_true, y_true, batch_size=32, shuffle=True)\n",
    "\n",
    "model.eval()\n",
    "loss_fn = nn.MSELoss()\n",
    "\n",
    "test_loss_true = 0\n",
    "preds_true = []\n",
    "targets_true = []\n",
    "\n",
    "with torch.no_grad():\n",
    "    for X_batch, y_batch in true_data:\n",
    "        y_pred = model(X_batch)\n",
    "        loss = loss_fn(y_pred, y_batch)\n",
    "        test_loss_true += loss.item()\n",
    "\n",
    "        preds_true.append(y_pred.numpy())\n",
    "        targets_true.append(y_batch.numpy())\n",
    "\n",
    "\n",
    "preds_true = np.concatenate(preds_true)\n",
    "targets_true = np.concatenate(targets_true)\n",
    "\n",
    "print(f\" Test Loss (MSE): {test_loss_true:.4f}\")"
   ]
  },
  {
   "cell_type": "code",
   "execution_count": null,
   "id": "c426b76a",
   "metadata": {},
   "outputs": [
    {
     "name": "stdout",
     "output_type": "stream",
     "text": [
      "7792\n"
     ]
    },
    {
     "data": {
      "text/plain": [
       "date           7892\n",
       "Station_No     7892\n",
       "TSP            7892\n",
       "PM2.5          7892\n",
       "O3             7892\n",
       "CO             7892\n",
       "NO2            7892\n",
       "SO2            7892\n",
       "Temperature    7892\n",
       "Humidity       7892\n",
       "dtype: int64"
      ]
     },
     "execution_count": 58,
     "metadata": {},
     "output_type": "execute_result"
    }
   ],
   "source": []
  }
 ],
 "metadata": {
  "kernelspec": {
   "display_name": "base",
   "language": "python",
   "name": "python3"
  },
  "language_info": {
   "codemirror_mode": {
    "name": "ipython",
    "version": 3
   },
   "file_extension": ".py",
   "mimetype": "text/x-python",
   "name": "python",
   "nbconvert_exporter": "python",
   "pygments_lexer": "ipython3",
   "version": "3.12.7"
  }
 },
 "nbformat": 4,
 "nbformat_minor": 5
}
